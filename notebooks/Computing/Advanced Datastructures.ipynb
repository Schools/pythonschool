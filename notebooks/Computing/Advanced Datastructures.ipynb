{
 "cells": [
  {
   "cell_type": "markdown",
   "metadata": {},
   "source": [
    "Simple Datastructures\n",
    "\n",
    "memory oriented\n",
    "1. Arrays\n",
    "2. Linked List\n",
    "based on array and linked list\n",
    "3. Stack\n",
    "4. Queue\n",
    "5. Tree\n",
    "6. Graph\n",
    "\n",
    "Advanced Datastructures\n",
    "\n",
    "1. Tree - Tries, BST, AVL, Red-Black, Segement tree, Suffix tree, Fenwick(binary indexed) tree\n",
    "2. Hashtable\n",
    "3. Suffix Array\n",
    "\n",
    "\n",
    "\n",
    "https://www.hackerearth.com/practice/data-structures"
   ]
  }
 ],
 "metadata": {
  "kernelspec": {
   "display_name": "Python 3",
   "language": "python",
   "name": "python3"
  },
  "language_info": {
   "codemirror_mode": {
    "name": "ipython",
    "version": 3
   },
   "file_extension": ".py",
   "mimetype": "text/x-python",
   "name": "python",
   "nbconvert_exporter": "python",
   "pygments_lexer": "ipython3",
   "version": "3.7.1"
  }
 },
 "nbformat": 4,
 "nbformat_minor": 4
}
