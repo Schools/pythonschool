{
 "cells": [
  {
   "cell_type": "markdown",
   "metadata": {},
   "source": [
    "# Compilers\n",
    "\n",
    "\n",
    "Concepts\n",
    "1. Tokenizing\n",
    "2. Sematics\n",
    "3. Grammer\n",
    "4. Production\n",
    "5. Parsers\n",
    "\n",
    "\n",
    "\n",
    "Types of Parsers\n",
    "1. Top Down\n",
    "2. Bottom Up\n",
    "\n",
    "\n",
    "Compiler Design References\n",
    "\n",
    "https://www.tutorialspoint.com/compiler_design/index.htm\n",
    "\n",
    "https://www.youtube.com/watch?v=Qkwj65l_96I&list=PLEbnTDJUr_IcPtUXFy2b1sGRPsLFMghhS&index=1\n",
    "\n",
    "http://ecomputernotes.com/compiler-design/type-of-parsing"
   ]
  }
 ],
 "metadata": {
  "kernelspec": {
   "display_name": "Python 3",
   "language": "python",
   "name": "python3"
  },
  "language_info": {
   "codemirror_mode": {
    "name": "ipython",
    "version": 3
   },
   "file_extension": ".py",
   "mimetype": "text/x-python",
   "name": "python",
   "nbconvert_exporter": "python",
   "pygments_lexer": "ipython3",
   "version": "3.7.1"
  }
 },
 "nbformat": 4,
 "nbformat_minor": 4
}
