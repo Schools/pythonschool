{
 "cells": [
  {
   "cell_type": "markdown",
   "metadata": {},
   "source": [
    "Counting\n",
    "\n",
    "1, 2, 3...\n",
    "\n",
    "How much humans can count and make sense?\n",
    "\n",
    "https://en.wikipedia.org/wiki/Large_numbers\n",
    "https://en.wikipedia.org/wiki/Names_of_large_numbers\n",
    "https://en.wikipedia.org/wiki/Asaṃkhyeya\n",
    "\n",
    "https://en.wikipedia.org/wiki/Law_of_large_numbers\n",
    "\n",
    "https://www.trollart.com/wp-content/uploads/store-img/P/agesofrock.jpg\n",
    "\n",
    "\n",
    "https://i.imgur.com/jaa2GSb.jpg\n",
    "\n",
    "https://pbs.twimg.com/media/Bjg-h-aCcAAHMG9?format=png&name=900x900\n",
    "\n",
    "http://www.msnbc.com/hardball/indian-ocean-depth-challenges-search-crews\n",
    "\n",
    "\n",
    "Best source of animation for understanding scale of Universe - http://htwins.net/\n",
    "\n",
    "\n",
    "The Rubik's Cube is a 3-D puzzle that was invented by Hungarian professor of architecture Ernő Rubik in 1974. Today it is considered as one of the world's best selling toys.\n",
    "\n",
    "There are 43,252,003,274,489,856,000 possible arrangements of the cube.\n",
    "\n",
    "youtube.com/watch?v=s0j-cHqf6Ms\n",
    "https://www.youtube.com/watch?v=i93Z7zljQ7I\n",
    "\n",
    "Carl Sagan dialog - https://www.youtube.com/watch?v=Iy7NzjCmUf0 \n",
    "Lanikae Cluster.\n",
    "Observable Universe\n",
    "https://www.youtube.com/watch?v=XmhEBiIGPUg\n",
    "https://www.youtube.com/watch?v=ujbujsx0rJg\n",
    "\n",
    "\n",
    "Citizen Scientist\n",
    "https://www.youtube.com/watch?v=88d-58tWhGs\n",
    "\n",
    "ABSURD CLIMATE\n",
    "https://www.youtube.com/watch?v=9mVRc80vhhQ\n",
    "\n",
    "\n",
    "How much computer can count and make sense?\n",
    "\n",
    "Despite deploying computers how much human species can count?\n",
    "\n",
    "Given a set, how will we count the no. of possibilities of combination and permutation?\n",
    "Given 2 sets, how will be count the no. of possiblities of combination and permutation?\n"
   ]
  },
  {
   "cell_type": "code",
   "execution_count": null,
   "metadata": {},
   "outputs": [],
   "source": []
  }
 ],
 "metadata": {
  "kernelspec": {
   "display_name": "Python 3",
   "language": "python",
   "name": "python3"
  },
  "language_info": {
   "codemirror_mode": {
    "name": "ipython",
    "version": 3
   },
   "file_extension": ".py",
   "mimetype": "text/x-python",
   "name": "python",
   "nbconvert_exporter": "python",
   "pygments_lexer": "ipython3",
   "version": "3.7.1"
  }
 },
 "nbformat": 4,
 "nbformat_minor": 4
}
