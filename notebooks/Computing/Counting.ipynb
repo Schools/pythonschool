{
 "cells": [
  {
   "cell_type": "markdown",
   "metadata": {},
   "source": [
    "Counting\n",
    "\n",
    "1, 2, 3...\n",
    "\n",
    "How much humans can count and make sense?\n",
    "How much computer can count and make sense?\n",
    "\n",
    "Despite deploying computers how much human species can count?\n",
    "\n",
    "Given a set, how will we count the no. of possibilities of combination and permutation?\n",
    "Given 2 sets, how will be count the no. of possiblities of combination and permutation?\n"
   ]
  }
 ],
 "metadata": {
  "kernelspec": {
   "display_name": "Python 3",
   "language": "python",
   "name": "python3"
  },
  "language_info": {
   "codemirror_mode": {
    "name": "ipython",
    "version": 3
   },
   "file_extension": ".py",
   "mimetype": "text/x-python",
   "name": "python",
   "nbconvert_exporter": "python",
   "pygments_lexer": "ipython3",
   "version": "3.7.3"
  }
 },
 "nbformat": 4,
 "nbformat_minor": 4
}
