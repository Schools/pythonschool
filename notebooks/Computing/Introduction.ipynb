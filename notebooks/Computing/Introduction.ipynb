{
 "cells": [
  {
   "cell_type": "markdown",
   "metadata": {},
   "source": [
    "Introduction\n",
    "\n",
    "Computing is all about counting and calculability.\n",
    "\n",
    "We should know how to count first.\n",
    "\n",
    "Need to check \n",
    "1. Busy Beaver Algo\n",
    "2. Ackman algo\n",
    "3. Other interesting Turing Machine\n",
    "\n",
    "Priority Queue with Heap datastructure\n",
    "\n",
    "\n",
    "### Hashing \n",
    "Counting is dependent on computation feasbility and physical motions like speed of light.\n",
    "We have limited capacity of computation with speed of light being constant. Even if we do counting at light speed. (unless we make use of dark speed)\n",
    "\n",
    "Hashing can account for available limited computation capacity.\n",
    "Hashing is the only way to count only items which is of our interest or decidability instead of everything.\n",
    "\n",
    "### Compilers\n",
    "\n",
    "Compilers are RULE BASED PRODUCTION SYSTEM or EXPERT SYSTEM, converting one form of language to another form of language or machine language\n",
    "\n",
    "\n",
    "\n",
    "### Graphs types\n",
    "\n",
    "https://www.wolfram.com/mathematica/new-in-8/graph-and-network-modeling/parameterized-families-of-graphs.html\n",
    "\n",
    "https://www.wolfram.com/mathematica/new-in-8/new-and-improved-core-algorithms/integrate-multidimensional-highly-oscillatory-func.html\n",
    "\n",
    "\n",
    "### Heurisitic Functions\n",
    "\n",
    "https://machinelearningmastery.com/statistical-hypothesis-tests-in-python-cheat-sheet/"
   ]
  }
 ],
 "metadata": {
  "kernelspec": {
   "display_name": "Python 3",
   "language": "python",
   "name": "python3"
  },
  "language_info": {
   "codemirror_mode": {
    "name": "ipython",
    "version": 3
   },
   "file_extension": ".py",
   "mimetype": "text/x-python",
   "name": "python",
   "nbconvert_exporter": "python",
   "pygments_lexer": "ipython3",
   "version": "3.7.3"
  }
 },
 "nbformat": 4,
 "nbformat_minor": 4
}
