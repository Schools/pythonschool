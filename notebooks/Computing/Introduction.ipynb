{
 "cells": [
  {
   "cell_type": "markdown",
   "metadata": {},
   "source": [
    "Introduction\n",
    "\n",
    "Computing is all about counting and calculability.\n",
    "\n",
    "We should know how to count first.\n",
    "\n",
    "Need to check \n",
    "1. Busy Beaver Algo\n",
    "2. Ackman algo\n",
    "3. Other interesting Turing Machine\n",
    "\n",
    "Priority Queue with Heap datastructure"
   ]
  }
 ],
 "metadata": {
  "kernelspec": {
   "display_name": "Python 3",
   "language": "python",
   "name": "python3"
  },
  "language_info": {
   "codemirror_mode": {
    "name": "ipython",
    "version": 3
   },
   "file_extension": ".py",
   "mimetype": "text/x-python",
   "name": "python",
   "nbconvert_exporter": "python",
   "pygments_lexer": "ipython3",
   "version": "3.7.3"
  }
 },
 "nbformat": 4,
 "nbformat_minor": 4
}
