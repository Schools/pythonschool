{
 "cells": [
  {
   "cell_type": "markdown",
   "metadata": {},
   "source": [
    "# Sorting Alogrithms\n",
    "\n",
    "Some sorting algorihtms in python \n",
    "https://github.com/pattu777/Algorithms-and-Data-structures/blob/master/Algorithms/Sorting.ipynb\n",
    "\n",
    "Sorting becomes pre-requisite for searching.\n",
    "Indexing is another way of sorting.\n",
    "Hashing is another way of sorting.\n",
    "\n",
    "Numberline sorting or number base changed sorting like log etc.,."
   ]
  },
  {
   "cell_type": "markdown",
   "metadata": {},
   "source": [
    "# Swap Functions\n",
    "\n",
    "Swap functions are one of the important function in sorting.\n",
    "\n",
    "Following link states different types of swapping - https://www.programiz.com/python-programming/examples/swap-variables\n",
    "1. Swap with temp variable\n",
    "\n",
    "temp = a\n",
    "a = b\n",
    "b = temp\n",
    "\n",
    "2. Swap without temp variable\n",
    "\n",
    "a, b = b, a\n",
    "\n",
    "3. Swap with Addition & Subration\n",
    "\n",
    "x = x+y\n",
    "y = x-y\n",
    "x = x-y\n",
    "\n",
    "4. Swap with Multiplication & Division\n",
    "x = x * y\n",
    "y = x / y\n",
    "x = x / y\n",
    "\n",
    "5. Swap with XOR (caveat is there)\n",
    "\n",
    "x = x ^ y\n",
    "y = x ^ y\n",
    "x = x ^ y"
   ]
  },
  {
   "cell_type": "code",
   "execution_count": 12,
   "metadata": {},
   "outputs": [],
   "source": [
    "test_arr = [[1], [1, 2], [2, 1], [5, 2, 7, 1, 8], [1, 2, 5, 7, 8],\n",
    "                [10, 272, 100, -98, 876, 877754, 98124, 0, 1000000, -100]];"
   ]
  },
  {
   "cell_type": "markdown",
   "metadata": {},
   "source": [
    "Bubble Sorting\n",
    "\n",
    "Simple Sorting"
   ]
  },
  {
   "cell_type": "code",
   "execution_count": 15,
   "metadata": {},
   "outputs": [
    {
     "name": "stdout",
     "output_type": "stream",
     "text": [
      "[1]\n",
      "[1, 2]\n",
      "Object `this` not found.\n",
      "[2, 1]\n",
      "Object `this` not found.\n",
      "Object `this` not found.\n",
      "Object `this` not found.\n",
      "Object `this` not found.\n",
      "[5, 2, 7, 1, 8]\n",
      "[1, 2, 5, 7, 8]\n",
      "Object `this` not found.\n",
      "Object `this` not found.\n",
      "Object `this` not found.\n",
      "Object `this` not found.\n",
      "Object `this` not found.\n",
      "Object `this` not found.\n",
      "Object `this` not found.\n",
      "Object `this` not found.\n",
      "Object `this` not found.\n",
      "Object `this` not found.\n",
      "Object `this` not found.\n",
      "Object `this` not found.\n",
      "Object `this` not found.\n",
      "Object `this` not found.\n",
      "Object `this` not found.\n",
      "Object `this` not found.\n",
      "Object `this` not found.\n",
      "Object `this` not found.\n",
      "Object `this` not found.\n",
      "Object `this` not found.\n",
      "[10, 272, 100, -98, 876, 877754, 98124, 0, 1000000, -100]\n"
     ]
    }
   ],
   "source": [
    "def swap(i, j):\n",
    "    temp = i;\n",
    "    i=j;\n",
    "    j=temp;\n",
    "\n",
    "def bubble_sort(arr):\n",
    "    \"\"\"\n",
    "    Time Complexity: O(n^2)\n",
    "    Space Complexity: O(1)\n",
    "    \"\"\"\n",
    "    arr_size = len(arr)\n",
    "    for i in range(arr_size):\n",
    "        for j in range(i, arr_size):\n",
    "            if arr[i] > arr[j]:\n",
    "                swap(arr[i], arr[j]);\n",
    "                //arr[i], arr[j] = arr[j], arr[i] // what kind of swap is this??\n",
    "    \n",
    "    print(arr)\n",
    "    return arr\n",
    "\n",
    "for arr in test_arr:\n",
    "    bubble_sort(arr);"
   ]
  },
  {
   "cell_type": "code",
   "execution_count": null,
   "metadata": {},
   "outputs": [],
   "source": []
  },
  {
   "cell_type": "code",
   "execution_count": null,
   "metadata": {},
   "outputs": [],
   "source": []
  }
 ],
 "metadata": {
  "kernelspec": {
   "display_name": "Python 3",
   "language": "python",
   "name": "python3"
  },
  "language_info": {
   "codemirror_mode": {
    "name": "ipython",
    "version": 3
   },
   "file_extension": ".py",
   "mimetype": "text/x-python",
   "name": "python",
   "nbconvert_exporter": "python",
   "pygments_lexer": "ipython3",
   "version": "3.7.1"
  }
 },
 "nbformat": 4,
 "nbformat_minor": 4
}
