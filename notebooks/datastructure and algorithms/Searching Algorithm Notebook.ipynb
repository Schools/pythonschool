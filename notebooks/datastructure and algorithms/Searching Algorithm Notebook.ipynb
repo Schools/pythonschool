{
 "cells": [
  {
   "cell_type": "markdown",
   "metadata": {},
   "source": [
    "# Searching Alogrithms\n",
    "\n",
    "Linear Search and Binary Search are main algorithms\n",
    "\n",
    "Binary Search can be extended other search by chaning the division interval.\n",
    "1. Jump Search\n",
    "2. Interpolation Search\n",
    "3. Ternary Search\n",
    "4. Exponential Search\n",
    "\n",
    "Primary number search is one of the heavy searches in the history of time. Riemann Zeta & Yeta function provides some intution on the spread of prime numbers.\n",
    "\n",
    "In college days, we will be searching an array only for one number. but we think a little bit more. we could also search a sub array in an array.\n",
    "\n",
    "1. sub array search\n",
    "2. Filters in records\n",
    "3. Filters in heirarchy\n",
    "\n",
    "\n",
    "Mathematically we can go for searching a number in series like prime number - it can be called as unbounded search.\n",
    "\n",
    "\n",
    "Ternary searches are mainly used for mono mode i.e has only one global max or min."
   ]
  }
 ],
 "metadata": {
  "kernelspec": {
   "display_name": "Python 3",
   "language": "python",
   "name": "python3"
  },
  "language_info": {
   "codemirror_mode": {
    "name": "ipython",
    "version": 3
   },
   "file_extension": ".py",
   "mimetype": "text/x-python",
   "name": "python",
   "nbconvert_exporter": "python",
   "pygments_lexer": "ipython3",
   "version": "3.7.1"
  }
 },
 "nbformat": 4,
 "nbformat_minor": 2
}
