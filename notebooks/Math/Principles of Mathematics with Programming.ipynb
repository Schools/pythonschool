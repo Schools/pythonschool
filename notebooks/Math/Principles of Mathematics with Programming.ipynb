{
 "cells": [
  {
   "cell_type": "markdown",
   "metadata": {},
   "source": [
    "My Recent revelations\n",
    "---------------------\n",
    "1. All problems are search problems\n",
    "2. All search problems searches on state space or set\n",
    "3. Search space could be static or dynamic\n",
    "4. Static search space could be studied with Modern Algebra (with Algebraic Data Types)\n",
    "5. Dynamic search space could be studied with Probability and Statistics\n"
   ]
  },
  {
   "cell_type": "markdown",
   "metadata": {},
   "source": [
    "Set Theory\n",
    "----------\n",
    "\n",
    "Paradoxes\n",
    "1. Russel's Paradox\n",
    "In simple language, who will save barber if every men is save by barber.\n",
    "https://www.youtube.com/watch?v=xauCQpnbNAM\n",
    "\n",
    "2. Burali-Forti paradox\n",
    "Based on russels paradox, what happens to oridnal of the set is described by Burali-Forti paradox.\n",
    "http://self.gutenberg.org/articles/eng/Burali-Forti_paradox\n",
    "\n",
    "\n",
    "Other Set Theory\n",
    "----------------\n",
    "Von Neumann–Bernays–Gödel set theory\n",
    "Zermelo–Fraenkel set theory\n",
    "Kripke–Platek set theory\n",
    "Morse–Kelley set theory\n",
    "Tarski–Grothendieck set theory\n",
    "\n",
    "Special Sets\n",
    "------------\n",
    "Julia Set\n",
    "https://scipython.com/book/chapter-7-matplotlib/problems/p72/the-julia-set/\n",
    "https://www.ibm.com/developerworks/community/blogs/jfp/entry/Fast_Computation_of_Julia_Set_in_Python?lang=en\n",
    "\n",
    "Mandelbrot Set\n",
    "\n",
    "\n",
    "Hilbert Program for completing Math\n",
    "https://en.wikipedia.org/wiki/Hilbert%27s_program\n",
    "\n",
    "Incompleteness Theorem\n",
    "https://en.wikipedia.org/wiki/G%C3%B6del%27s_incompleteness_theorems\n",
    "https://www.youtube.com/watch?v=O4ndIDcDSGc\n",
    "https://www.youtube.com/watch?v=lLsm-ceqyio\n",
    "\n",
    "\n",
    "Hilberts Problems\n",
    "https://www.encyclopediaofmath.org/index.php/Hilbert_problems\n"
   ]
  },
  {
   "cell_type": "markdown",
   "metadata": {},
   "source": [
    "Category Theory\n",
    "---------------\n",
    "\n",
    "Recently came to know that set theory theory is confounded by paradoxes. Not all them follow set theory.\n",
    "\n",
    "Set theory was profound in helping identification of various solutions for polymial equations with Rene descartus graph.\n",
    "\n",
    "It failed to provide solution for 5th degree polynomial. Galois theory helped to understand thing via abstract algebra or modern algebra.\n",
    "\n",
    "\n",
    "Classical algebra defined various functions from sets mapping domain to co-domain.\n",
    "\n",
    "Some functions had one or more roots.\n",
    "\n"
   ]
  },
  {
   "cell_type": "markdown",
   "metadata": {},
   "source": [
    "# Factorial\n",
    "\n",
    "It is important to find all permutations to form state space or to solve the configuration problem.\n",
    "\n",
    "Factorial can be obtained from Gamma series and Sterling approx.\n",
    "\n",
    "When we Say GAMMA function - it look complex, but Euler with his intution seems to have got it with exponential and natural -ve exponents.\n",
    "\n",
    "Gamma function may converge to n! in Z plane in Re(z) otherwise it may diverge. For Z where Re(z) > 0 becomes useful. At Re(z)=0, there could be singularity or Pole\n",
    "\n",
    "If something is computable like gamma function, we call it analytic, sometimes we get into singularity which makes it non analytic.\n",
    "\n",
    "https://www.youtube.com/watch?v=C3PmT6oNEew\n",
    "\n",
    "\n",
    "Gamma (z) is a meromorphic function with simple poles with reside (-1)^n / n!\n",
    "\n",
    "Lapace functions are Harmonic functions\n",
    "\n",
    "Dancing of two harmonic function in Z plane creates analytic functions.\n",
    "\n",
    "Singularities that goes towards zero can be called as ESSENTIAL Sigularity. Singularity that goes towards infinity can be called as POLES."
   ]
  }
 ],
 "metadata": {
  "kernelspec": {
   "display_name": "Python 3",
   "language": "python",
   "name": "python3"
  },
  "language_info": {
   "codemirror_mode": {
    "name": "ipython",
    "version": 3
   },
   "file_extension": ".py",
   "mimetype": "text/x-python",
   "name": "python",
   "nbconvert_exporter": "python",
   "pygments_lexer": "ipython3",
   "version": "3.7.1"
  }
 },
 "nbformat": 4,
 "nbformat_minor": 4
}
