{
 "cells": [
  {
   "cell_type": "markdown",
   "metadata": {},
   "source": [
    "# Probability Distributions\n",
    "\n",
    "## Terminologies\n",
    "\n",
    "1. Random Experiment - Any Stochastic process\n",
    "2. Random Variables (X) -  Takes Random Values\n",
    "3. Expectation  - Expected Probability Outcome of value of in the Random Experiment for the random variable. It is also mean value.\n",
    "4. PD - Probability  Distribution,  Out Come Value distribution in Rand\n",
    "5. PDF - Probability Density Function, derivative of Probability Distribution\n",
    "6. Skewness - skewness is a measure of the asymmetry of the probability distribution of a real-valued random variable about its mean.\n",
    "7. Kurtosis - kurtosis is a descriptor of the shape of a probability distribution and, just as for skewness, there are different ways of quantifying it for a theoretical distribution.\n",
    "8. CDF - Cumulative Distribution Function - Summation or Integration of Probability distribution over interval.\n",
    "\n",
    "## Reference\n",
    "http://library.wolfram.com/infocenter/MathSource/8770/#downloads\n",
    "\n",
    "# Data\n",
    "\n",
    "1. Mean\n",
    "2. Variance\n",
    "3. Median\n",
    "4. Correlation\n",
    "5. Regression\n",
    "6. Hypothesis testing\n",
    "7. Weighted data (normalization)\n",
    "8. Temporal data"
   ]
  },
  {
   "cell_type": "markdown",
   "metadata": {},
   "source": [
    "## Probability Distribution\n",
    "\n",
    "1. Univariate Continuous - https://www.wolfram.com/mathematica/new-in-8/parametric-probability-distributions/univariate-continuous-distributions.html\n",
    "\n",
    "2. Univariate Discrete - https://www.wolfram.com/mathematica/new-in-8/parametric-probability-distributions/univariate-discrete-distributions.html\n",
    "\n",
    "3. Bivariate Continuous - https://www.wolfram.com/mathematica/new-in-8/probability-and-statistics-solvers-and-properties/bivariate-continuous-distribution-functions.html\n",
    "\n",
    "4. Bivariate Discrete - https://www.wolfram.com/mathematica/new-in-8/probability-and-statistics-solvers-and-properties/bivariate-discrete-distribution-functions.html\n",
    "\n",
    "5. Multivariate Distribution\n",
    "https://www.wolfram.com/mathematica/new-in-8/parametric-probability-distributions/multivariate-distributions.html\n",
    "\n",
    "\n",
    "## Important Processing Time Distributions\n",
    "\n",
    "1. The Uniform Distribution\n",
    "2. The Exponential Distribution\n",
    "3. The Normal Distribution\n",
    "4. The Lognormal Distribution\n",
    "5. The Parkinson Distribution\n",
    "6. Boltzmann Distribution\n",
    "\n",
    "## Distribution Properties\n",
    "https://www.wolfram.com/mathematica/new-in-8/parametric-probability-distributions/an-extensive-collection-of-distributional-properti.html\n",
    "https://www.wolfram.com/mathematica/new-in-8/nonparametric-derived-and-formula-distributions/compute-any-of-over-30-nonparametric-distributiona.html\n"
   ]
  },
  {
   "cell_type": "markdown",
   "metadata": {},
   "source": [
    "# Processes\n",
    "\n",
    "1. Simulation\n",
    "2. Parameter estimation\n",
    "3. Process covariance\n",
    "4. Wiener process\n",
    "5. Markov chains\n",
    "6. Time series\n",
    "7. Queueing theory\n",
    "8. Stochastic calculus"
   ]
  }
 ],
 "metadata": {
  "kernelspec": {
   "display_name": "Python 3",
   "language": "python",
   "name": "python3"
  },
  "language_info": {
   "codemirror_mode": {
    "name": "ipython",
    "version": 3
   },
   "file_extension": ".py",
   "mimetype": "text/x-python",
   "name": "python",
   "nbconvert_exporter": "python",
   "pygments_lexer": "ipython3",
   "version": "3.7.1"
  }
 },
 "nbformat": 4,
 "nbformat_minor": 4
}
